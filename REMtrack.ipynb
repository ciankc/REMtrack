{
  "nbformat": 4,
  "nbformat_minor": 0,
  "metadata": {
    "colab": {
      "name": "REMtrack.ipynb",
      "provenance": [],
      "collapsed_sections": []
    },
    "kernelspec": {
      "name": "python3",
      "display_name": "Python 3"
    }
  },
  "cells": [
    {
      "cell_type": "code",
      "metadata": {
        "id": "KMc1CQLL87op",
        "colab_type": "code",
        "colab": {
          "base_uri": "https://localhost:8080/",
          "height": 63
        },
        "outputId": "dcac66ca-ab78-4cd2-e465-3e9b3fdb7ff7"
      },
      "source": [
        "from collections import Counter\n",
        "import sys\n",
        "import time\n",
        "import pandas as pd\n",
        "import tensorflow as tf\n",
        "import numpy as np\n",
        "from tensorflow.keras.callbacks import ModelCheckpoint, TensorBoard\n",
        "from tensorflow.keras.models import load_model"
      ],
      "execution_count": 1,
      "outputs": [
        {
          "output_type": "display_data",
          "data": {
            "text/html": [
              "<p style=\"color: red;\">\n",
              "The default version of TensorFlow in Colab will soon switch to TensorFlow 2.x.<br>\n",
              "We recommend you <a href=\"https://www.tensorflow.org/guide/migrate\" target=\"_blank\">upgrade</a> now \n",
              "or ensure your notebook will continue to use TensorFlow 1.x via the <code>%tensorflow_version 1.x</code> magic:\n",
              "<a href=\"https://colab.research.google.com/notebooks/tensorflow_version.ipynb\" target=\"_blank\">more info</a>.</p>\n"
            ],
            "text/plain": [
              "<IPython.core.display.HTML object>"
            ]
          },
          "metadata": {
            "tags": []
          }
        }
      ]
    },
    {
      "cell_type": "code",
      "metadata": {
        "id": "A5aKMjRW9tWl",
        "colab_type": "code",
        "outputId": "d7afc51a-1b18-4c9f-98c0-93464ef7c877",
        "colab": {
          "resources": {
            "http://localhost:8080/nbextensions/google.colab/files.js": {
              "data": "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",
              "ok": true,
              "headers": [
                [
                  "content-type",
                  "application/javascript"
                ]
              ],
              "status": 200,
              "status_text": ""
            }
          },
          "base_uri": "https://localhost:8080/",
          "height": 139
        }
      },
      "source": [
        "from google.colab import files\n",
        "uploaded = files.upload()"
      ],
      "execution_count": 2,
      "outputs": [
        {
          "output_type": "display_data",
          "data": {
            "text/html": [
              "\n",
              "     <input type=\"file\" id=\"files-547a02e7-6fcd-4960-9e4d-626c1e7eff4e\" name=\"files[]\" multiple disabled />\n",
              "     <output id=\"result-547a02e7-6fcd-4960-9e4d-626c1e7eff4e\">\n",
              "      Upload widget is only available when the cell has been executed in the\n",
              "      current browser session. Please rerun this cell to enable.\n",
              "      </output>\n",
              "      <script src=\"/nbextensions/google.colab/files.js\"></script> "
            ],
            "text/plain": [
              "<IPython.core.display.HTML object>"
            ]
          },
          "metadata": {
            "tags": []
          }
        },
        {
          "output_type": "stream",
          "text": [
            "Saving final_imu_data.csv to final_imu_data.csv\n",
            "Saving imu_1.csv to imu_1.csv\n",
            "Saving pulse_1.csv to pulse_1.csv\n"
          ],
          "name": "stdout"
        }
      ]
    },
    {
      "cell_type": "code",
      "metadata": {
        "id": "5kxx25bR-wtG",
        "colab_type": "code",
        "colab": {}
      },
      "source": [
        "import io\n",
        "df = pd.read_csv(io.BytesIO(uploaded['imu_1.csv']))\n",
        "dfp = pd.read_csv(io.BytesIO(uploaded['pulse_1.csv']))\n",
        "dff = pd.read_csv(io.BytesIO(uploaded['final_imu_data.csv']))"
      ],
      "execution_count": 0,
      "outputs": []
    },
    {
      "cell_type": "code",
      "metadata": {
        "id": "UCO3MXI5-57a",
        "colab_type": "code",
        "outputId": "1333f70f-1321-4808-b6fb-608bceff6fd5",
        "colab": {
          "base_uri": "https://localhost:8080/",
          "height": 204
        }
      },
      "source": [
        "df['time'] = pd.to_datetime(df['time'])\n",
        "df['time'] = pd.Series([val.time() for val in df['time']])\n",
        "df.head(5)"
      ],
      "execution_count": 4,
      "outputs": [
        {
          "output_type": "execute_result",
          "data": {
            "text/html": [
              "<div>\n",
              "<style scoped>\n",
              "    .dataframe tbody tr th:only-of-type {\n",
              "        vertical-align: middle;\n",
              "    }\n",
              "\n",
              "    .dataframe tbody tr th {\n",
              "        vertical-align: top;\n",
              "    }\n",
              "\n",
              "    .dataframe thead th {\n",
              "        text-align: right;\n",
              "    }\n",
              "</style>\n",
              "<table border=\"1\" class=\"dataframe\">\n",
              "  <thead>\n",
              "    <tr style=\"text-align: right;\">\n",
              "      <th></th>\n",
              "      <th>time</th>\n",
              "      <th>x_acc</th>\n",
              "      <th>y_acc</th>\n",
              "      <th>z_acc</th>\n",
              "      <th>x_gyro</th>\n",
              "      <th>y_gyro</th>\n",
              "      <th>z_gyro</th>\n",
              "      <th>x_mag</th>\n",
              "      <th>y_mag</th>\n",
              "      <th>z_mag</th>\n",
              "      <th>rem</th>\n",
              "    </tr>\n",
              "  </thead>\n",
              "  <tbody>\n",
              "    <tr>\n",
              "      <th>0</th>\n",
              "      <td>01:40:41</td>\n",
              "      <td>-136.96</td>\n",
              "      <td>-3.91</td>\n",
              "      <td>865.36</td>\n",
              "      <td>-0.092</td>\n",
              "      <td>0.114</td>\n",
              "      <td>-0.114</td>\n",
              "      <td>188.64</td>\n",
              "      <td>62.52</td>\n",
              "      <td>-5.13</td>\n",
              "      <td>0</td>\n",
              "    </tr>\n",
              "    <tr>\n",
              "      <th>1</th>\n",
              "      <td>01:40:42</td>\n",
              "      <td>-133.85</td>\n",
              "      <td>-0.61</td>\n",
              "      <td>863.95</td>\n",
              "      <td>-0.092</td>\n",
              "      <td>0.458</td>\n",
              "      <td>-0.130</td>\n",
              "      <td>200.98</td>\n",
              "      <td>57.16</td>\n",
              "      <td>-3.42</td>\n",
              "      <td>0</td>\n",
              "    </tr>\n",
              "    <tr>\n",
              "      <th>2</th>\n",
              "      <td>01:40:42</td>\n",
              "      <td>-142.03</td>\n",
              "      <td>-7.08</td>\n",
              "      <td>865.97</td>\n",
              "      <td>-0.389</td>\n",
              "      <td>0.397</td>\n",
              "      <td>-0.275</td>\n",
              "      <td>186.87</td>\n",
              "      <td>67.88</td>\n",
              "      <td>0.00</td>\n",
              "      <td>0</td>\n",
              "    </tr>\n",
              "    <tr>\n",
              "      <th>3</th>\n",
              "      <td>01:40:43</td>\n",
              "      <td>-137.76</td>\n",
              "      <td>1.46</td>\n",
              "      <td>861.88</td>\n",
              "      <td>-0.198</td>\n",
              "      <td>0.381</td>\n",
              "      <td>0.031</td>\n",
              "      <td>190.40</td>\n",
              "      <td>57.16</td>\n",
              "      <td>0.00</td>\n",
              "      <td>0</td>\n",
              "    </tr>\n",
              "    <tr>\n",
              "      <th>4</th>\n",
              "      <td>01:40:43</td>\n",
              "      <td>-137.21</td>\n",
              "      <td>-3.48</td>\n",
              "      <td>862.06</td>\n",
              "      <td>-0.443</td>\n",
              "      <td>0.221</td>\n",
              "      <td>0.023</td>\n",
              "      <td>183.35</td>\n",
              "      <td>60.74</td>\n",
              "      <td>-13.68</td>\n",
              "      <td>0</td>\n",
              "    </tr>\n",
              "  </tbody>\n",
              "</table>\n",
              "</div>"
            ],
            "text/plain": [
              "       time   x_acc  y_acc   z_acc  x_gyro  ...  z_gyro   x_mag  y_mag  z_mag  rem\n",
              "0  01:40:41 -136.96  -3.91  865.36  -0.092  ...  -0.114  188.64  62.52  -5.13    0\n",
              "1  01:40:42 -133.85  -0.61  863.95  -0.092  ...  -0.130  200.98  57.16  -3.42    0\n",
              "2  01:40:42 -142.03  -7.08  865.97  -0.389  ...  -0.275  186.87  67.88   0.00    0\n",
              "3  01:40:43 -137.76   1.46  861.88  -0.198  ...   0.031  190.40  57.16   0.00    0\n",
              "4  01:40:43 -137.21  -3.48  862.06  -0.443  ...   0.023  183.35  60.74 -13.68    0\n",
              "\n",
              "[5 rows x 11 columns]"
            ]
          },
          "metadata": {
            "tags": []
          },
          "execution_count": 4
        }
      ]
    },
    {
      "cell_type": "code",
      "metadata": {
        "id": "q2E6u-5k515Z",
        "colab_type": "code",
        "outputId": "ed129581-662c-444a-a6cd-0f41a452f539",
        "colab": {
          "base_uri": "https://localhost:8080/",
          "height": 34
        }
      },
      "source": [
        "df1 = dff.head(15000).loc[df['rem'] == 1]\n",
        "df1.head(5)\n",
        "print(df1['time'].size)"
      ],
      "execution_count": 5,
      "outputs": [
        {
          "output_type": "stream",
          "text": [
            "1306\n"
          ],
          "name": "stdout"
        }
      ]
    },
    {
      "cell_type": "code",
      "metadata": {
        "id": "n7lJc42WWPE3",
        "colab_type": "code",
        "outputId": "6aca1991-7a31-45a8-e174-426a5287ae8d",
        "colab": {
          "base_uri": "https://localhost:8080/",
          "height": 204
        }
      },
      "source": [
        "df1 = df1.drop(columns=['time', 'x_mag', 'y_mag', 'z_mag', 'rem'])\n",
        "df1.head(5)"
      ],
      "execution_count": 6,
      "outputs": [
        {
          "output_type": "execute_result",
          "data": {
            "text/html": [
              "<div>\n",
              "<style scoped>\n",
              "    .dataframe tbody tr th:only-of-type {\n",
              "        vertical-align: middle;\n",
              "    }\n",
              "\n",
              "    .dataframe tbody tr th {\n",
              "        vertical-align: top;\n",
              "    }\n",
              "\n",
              "    .dataframe thead th {\n",
              "        text-align: right;\n",
              "    }\n",
              "</style>\n",
              "<table border=\"1\" class=\"dataframe\">\n",
              "  <thead>\n",
              "    <tr style=\"text-align: right;\">\n",
              "      <th></th>\n",
              "      <th>x_acc</th>\n",
              "      <th>y_acc</th>\n",
              "      <th>z_acc</th>\n",
              "      <th>x_gyro</th>\n",
              "      <th>y_gyro</th>\n",
              "      <th>z_gyro</th>\n",
              "    </tr>\n",
              "  </thead>\n",
              "  <tbody>\n",
              "    <tr>\n",
              "      <th>12983</th>\n",
              "      <td>-169.68</td>\n",
              "      <td>-113.77</td>\n",
              "      <td>903.08</td>\n",
              "      <td>0.191</td>\n",
              "      <td>0.542</td>\n",
              "      <td>-0.061</td>\n",
              "    </tr>\n",
              "    <tr>\n",
              "      <th>12984</th>\n",
              "      <td>-168.46</td>\n",
              "      <td>-112.92</td>\n",
              "      <td>901.43</td>\n",
              "      <td>0.031</td>\n",
              "      <td>0.313</td>\n",
              "      <td>0.015</td>\n",
              "    </tr>\n",
              "    <tr>\n",
              "      <th>12985</th>\n",
              "      <td>-170.72</td>\n",
              "      <td>-112.55</td>\n",
              "      <td>901.79</td>\n",
              "      <td>-0.153</td>\n",
              "      <td>-0.343</td>\n",
              "      <td>-0.015</td>\n",
              "    </tr>\n",
              "    <tr>\n",
              "      <th>12986</th>\n",
              "      <td>-175.54</td>\n",
              "      <td>-122.19</td>\n",
              "      <td>905.94</td>\n",
              "      <td>-0.641</td>\n",
              "      <td>-0.679</td>\n",
              "      <td>-0.420</td>\n",
              "    </tr>\n",
              "    <tr>\n",
              "      <th>12987</th>\n",
              "      <td>-157.71</td>\n",
              "      <td>-131.41</td>\n",
              "      <td>897.22</td>\n",
              "      <td>-0.023</td>\n",
              "      <td>-1.274</td>\n",
              "      <td>-0.473</td>\n",
              "    </tr>\n",
              "  </tbody>\n",
              "</table>\n",
              "</div>"
            ],
            "text/plain": [
              "        x_acc   y_acc   z_acc  x_gyro  y_gyro  z_gyro\n",
              "12983 -169.68 -113.77  903.08   0.191   0.542  -0.061\n",
              "12984 -168.46 -112.92  901.43   0.031   0.313   0.015\n",
              "12985 -170.72 -112.55  901.79  -0.153  -0.343  -0.015\n",
              "12986 -175.54 -122.19  905.94  -0.641  -0.679  -0.420\n",
              "12987 -157.71 -131.41  897.22  -0.023  -1.274  -0.473"
            ]
          },
          "metadata": {
            "tags": []
          },
          "execution_count": 6
        }
      ]
    },
    {
      "cell_type": "markdown",
      "metadata": {
        "id": "gbH_mXu6mgai",
        "colab_type": "text"
      },
      "source": [
        "Plotting Data for a sample night "
      ]
    },
    {
      "cell_type": "code",
      "metadata": {
        "id": "b3xqro1iATF9",
        "colab_type": "code",
        "outputId": "ebf12a3c-90fd-4194-aec5-470e9ac7b315",
        "colab": {
          "base_uri": "https://localhost:8080/",
          "height": 279
        }
      },
      "source": [
        "import matplotlib.pyplot as plt\n",
        "fig, ax = plt.subplots()\n",
        "df.plot(kind='line',x='time',y='x_acc',ax=ax)\n",
        "df.plot(kind='line',x='time',y='y_acc', color='red', ax=ax)\n",
        "df.plot(kind='line',x='time',y='z_acc', color='green', ax=ax)\n",
        "fig.autofmt_xdate() \n",
        "plt.show()"
      ],
      "execution_count": 54,
      "outputs": [
        {
          "output_type": "display_data",
          "data": {
            "image/png": "[encoded data removed]",
            "text/plain": [
              "<Figure size 432x288 with 1 Axes>"
            ]
          },
          "metadata": {
            "tags": []
          }
        }
      ]
    },
    {
      "cell_type": "code",
      "metadata": {
        "id": "8kxNpR9WCWYl",
        "colab_type": "code",
        "outputId": "a147298d-09f0-4c25-e244-ef058b240331",
        "colab": {
          "base_uri": "https://localhost:8080/",
          "height": 279
        }
      },
      "source": [
        "fig, ax2 = plt.subplots()\n",
        "df.plot(kind='line',x='time',y='x_gyro',ax=ax2)\n",
        "df.plot(kind='line',x='time',y='y_gyro', color='red', ax=ax2)\n",
        "df.plot(kind='line',x='time',y='z_gyro', color='green', ax=ax2)\n",
        "fig.autofmt_xdate() \n",
        "plt.show()"
      ],
      "execution_count": 60,
      "outputs": [
        {
          "output_type": "display_data",
          "data": {
            "image/png": "[encoded data removed]",
            "text/plain": [
              "<Figure size 432x288 with 1 Axes>"
            ]
          },
          "metadata": {
            "tags": []
          }
        }
      ]
    },
    {
      "cell_type": "code",
      "metadata": {
        "id": "XY9x3XsQoCXM",
        "colab_type": "code",
        "outputId": "0e19d1d7-1c2d-4320-8429-447648d9a731",
        "colab": {
          "base_uri": "https://localhost:8080/",
          "height": 279
        }
      },
      "source": [
        "fig, ax = plt.subplots()\n",
        "df.plot(kind='line',x='time',y='rem', color='purple', ax=ax)\n",
        "fig.autofmt_xdate() \n",
        "plt.show()"
      ],
      "execution_count": 55,
      "outputs": [
        {
          "output_type": "display_data",
          "data": {
            "image/png": "[encoded data removed]",
            "text/plain": [
              "<Figure size 432x288 with 1 Axes>"
            ]
          },
          "metadata": {
            "tags": []
          }
        }
      ]
    },
    {
      "cell_type": "code",
      "metadata": {
        "id": "tgTj3yeYDx1X",
        "colab_type": "code",
        "outputId": "581d7c16-e3c8-4cfd-d6b7-0013699820dd",
        "colab": {
          "base_uri": "https://localhost:8080/",
          "height": 276
        }
      },
      "source": [
        "fig, ax = plt.subplots()\n",
        "dfp.plot(kind='line',x='time',y='pulse', ax=ax)\n",
        "fig.autofmt_xdate() \n",
        "plt.show()"
      ],
      "execution_count": 63,
      "outputs": [
        {
          "output_type": "display_data",
          "data": {
            "image/png": "[encoded data removed]",
            "text/plain": [
              "<Figure size 432x288 with 1 Axes>"
            ]
          },
          "metadata": {
            "tags": []
          }
        }
      ]
    },
    {
      "cell_type": "code",
      "metadata": {
        "id": "B_z7VPMaoRiS",
        "colab_type": "code",
        "outputId": "7369b045-0d49-4da1-f381-862bda7b7d8e",
        "colab": {
          "base_uri": "https://localhost:8080/",
          "height": 276
        }
      },
      "source": [
        "fig, ax = plt.subplots()\n",
        "dfp.plot(kind='line', x='time', y='rem', ax=ax)\n",
        "fig.autofmt_xdate()\n",
        "plt.show()"
      ],
      "execution_count": 64,
      "outputs": [
        {
          "output_type": "display_data",
          "data": {
            "image/png": "[encoded data removed]",
            "text/plain": [
              "<Figure size 432x288 with 1 Axes>"
            ]
          },
          "metadata": {
            "tags": []
          }
        }
      ]
    },
    {
      "cell_type": "code",
      "metadata": {
        "id": "0KQKqwTUlOHM",
        "colab_type": "code",
        "colab": {}
      },
      "source": [
        "#create training np array for REM sleep\n",
        "X_train = np.zeros((80,512,6))\n",
        "j = 0\n",
        "while j < 80: #794:\n",
        "  k = 0\n",
        "  while k < 512:\n",
        "    X_train[j][k][0] = df1['x_acc'].values[k+j]\n",
        "    X_train[j][k][1] = df1['y_acc'].values[k+j]\n",
        "    X_train[j][k][2] = df1['z_acc'].values[k+j]\n",
        "    X_train[j][k][3] = df1['x_gyro'].values[k+j]\n",
        "    X_train[j][k][4] = df1['y_gyro'].values[k+j]\n",
        "    X_train[j][k][5] = df1['z_gyro'].values[k+j]\n",
        "    k = k+1\n",
        "  j = j+1"
      ],
      "execution_count": 0,
      "outputs": []
    },
    {
      "cell_type": "code",
      "metadata": {
        "id": "bwE5FHUc9WD9",
        "colab_type": "code",
        "outputId": "75cd74fc-a682-4e5c-d17a-1cd61b429cbb",
        "colab": {
          "base_uri": "https://localhost:8080/",
          "height": 34
        }
      },
      "source": [
        "df2 = dff.tail(20000).loc[df['rem'] == 1]\n",
        "df2.head(5)\n",
        "print(df2['time'].size)"
      ],
      "execution_count": 10,
      "outputs": [
        {
          "output_type": "stream",
          "text": [
            "2022\n"
          ],
          "name": "stdout"
        }
      ]
    },
    {
      "cell_type": "code",
      "metadata": {
        "id": "SpY5zoZgWdbF",
        "colab_type": "code",
        "outputId": "91e18cb7-5680-41c9-b8e4-44d2aa956e66",
        "colab": {
          "base_uri": "https://localhost:8080/",
          "height": 204
        }
      },
      "source": [
        "df2 = df2.drop(columns=['time', 'x_mag', 'y_mag', 'z_mag', 'rem'])\n",
        "df2.head(5)"
      ],
      "execution_count": 11,
      "outputs": [
        {
          "output_type": "execute_result",
          "data": {
            "text/html": [
              "<div>\n",
              "<style scoped>\n",
              "    .dataframe tbody tr th:only-of-type {\n",
              "        vertical-align: middle;\n",
              "    }\n",
              "\n",
              "    .dataframe tbody tr th {\n",
              "        vertical-align: top;\n",
              "    }\n",
              "\n",
              "    .dataframe thead th {\n",
              "        text-align: right;\n",
              "    }\n",
              "</style>\n",
              "<table border=\"1\" class=\"dataframe\">\n",
              "  <thead>\n",
              "    <tr style=\"text-align: right;\">\n",
              "      <th></th>\n",
              "      <th>x_acc</th>\n",
              "      <th>y_acc</th>\n",
              "      <th>z_acc</th>\n",
              "      <th>x_gyro</th>\n",
              "      <th>y_gyro</th>\n",
              "      <th>z_gyro</th>\n",
              "    </tr>\n",
              "  </thead>\n",
              "  <tbody>\n",
              "    <tr>\n",
              "      <th>25928</th>\n",
              "      <td>-266.30</td>\n",
              "      <td>-178.96</td>\n",
              "      <td>888.55</td>\n",
              "      <td>0.473</td>\n",
              "      <td>-2.617</td>\n",
              "      <td>-0.763</td>\n",
              "    </tr>\n",
              "    <tr>\n",
              "      <th>25929</th>\n",
              "      <td>-252.75</td>\n",
              "      <td>-172.30</td>\n",
              "      <td>899.90</td>\n",
              "      <td>0.587</td>\n",
              "      <td>1.526</td>\n",
              "      <td>0.237</td>\n",
              "    </tr>\n",
              "    <tr>\n",
              "      <th>25930</th>\n",
              "      <td>-258.00</td>\n",
              "      <td>-184.75</td>\n",
              "      <td>893.74</td>\n",
              "      <td>0.275</td>\n",
              "      <td>0.648</td>\n",
              "      <td>-0.603</td>\n",
              "    </tr>\n",
              "    <tr>\n",
              "      <th>25931</th>\n",
              "      <td>-287.54</td>\n",
              "      <td>-182.31</td>\n",
              "      <td>879.88</td>\n",
              "      <td>-0.153</td>\n",
              "      <td>1.434</td>\n",
              "      <td>-0.099</td>\n",
              "    </tr>\n",
              "    <tr>\n",
              "      <th>25932</th>\n",
              "      <td>-304.93</td>\n",
              "      <td>-179.69</td>\n",
              "      <td>875.31</td>\n",
              "      <td>-0.031</td>\n",
              "      <td>-0.237</td>\n",
              "      <td>0.069</td>\n",
              "    </tr>\n",
              "  </tbody>\n",
              "</table>\n",
              "</div>"
            ],
            "text/plain": [
              "        x_acc   y_acc   z_acc  x_gyro  y_gyro  z_gyro\n",
              "25928 -266.30 -178.96  888.55   0.473  -2.617  -0.763\n",
              "25929 -252.75 -172.30  899.90   0.587   1.526   0.237\n",
              "25930 -258.00 -184.75  893.74   0.275   0.648  -0.603\n",
              "25931 -287.54 -182.31  879.88  -0.153   1.434  -0.099\n",
              "25932 -304.93 -179.69  875.31  -0.031  -0.237   0.069"
            ]
          },
          "metadata": {
            "tags": []
          },
          "execution_count": 11
        }
      ]
    },
    {
      "cell_type": "code",
      "metadata": {
        "id": "F3koujR5viAX",
        "colab_type": "code",
        "colab": {}
      },
      "source": [
        "#populate remaining REM sleep data\n",
        "X_train2 = np.zeros((130,512,6))\n",
        "j = 0\n",
        "while j < 130:\n",
        "  k = 0\n",
        "  while k < 512:\n",
        "    X_train2[j][k][0] = df2['x_acc'].values[k+j]\n",
        "    X_train2[j][k][1] = df2['y_acc'].values[k+j]\n",
        "    X_train2[j][k][2] = df2['z_acc'].values[k+j]\n",
        "    X_train2[j][k][3] = df2['x_gyro'].values[k+j]\n",
        "    X_train2[j][k][4] = df2['y_gyro'].values[k+j]\n",
        "    X_train2[j][k][5] = df2['z_gyro'].values[k+j]\n",
        "    k = k+1\n",
        "  j = j+1"
      ],
      "execution_count": 0,
      "outputs": []
    },
    {
      "cell_type": "code",
      "metadata": {
        "id": "DiPkpA7YwOvK",
        "colab_type": "code",
        "outputId": "b99798a5-444e-4fd4-e16a-2c42f1d07968",
        "colab": {
          "base_uri": "https://localhost:8080/",
          "height": 34
        }
      },
      "source": [
        "X_train_fin = np.concatenate((X_train, X_train2))\n",
        "print(X_train_fin.shape)"
      ],
      "execution_count": 14,
      "outputs": [
        {
          "output_type": "stream",
          "text": [
            "(210, 512, 6)\n"
          ],
          "name": "stdout"
        }
      ]
    },
    {
      "cell_type": "code",
      "metadata": {
        "id": "9IGsIi3nf5n1",
        "colab_type": "code",
        "colab": {}
      },
      "source": [
        "#label REM sleep\n",
        "y_fin = np.ones((210,1))"
      ],
      "execution_count": 0,
      "outputs": []
    },
    {
      "cell_type": "markdown",
      "metadata": {
        "id": "yhAWHrun73MG",
        "colab_type": "text"
      },
      "source": [
        "Adding Non-REM data"
      ]
    },
    {
      "cell_type": "code",
      "metadata": {
        "id": "LDVcphxg72f6",
        "colab_type": "code",
        "outputId": "de5e9bcf-8e2e-45d8-eeac-9b026cec2755",
        "colab": {
          "base_uri": "https://localhost:8080/",
          "height": 204
        }
      },
      "source": [
        "dfn = dff.head(11000)\n",
        "dfn_seg = dfn.tail(5000)\n",
        "dfn_seg = dfn_seg.drop(columns=['time', 'x_mag', 'y_mag', 'z_mag', 'rem'])\n",
        "dfn_seg.head(5)"
      ],
      "execution_count": 16,
      "outputs": [
        {
          "output_type": "execute_result",
          "data": {
            "text/html": [
              "<div>\n",
              "<style scoped>\n",
              "    .dataframe tbody tr th:only-of-type {\n",
              "        vertical-align: middle;\n",
              "    }\n",
              "\n",
              "    .dataframe tbody tr th {\n",
              "        vertical-align: top;\n",
              "    }\n",
              "\n",
              "    .dataframe thead th {\n",
              "        text-align: right;\n",
              "    }\n",
              "</style>\n",
              "<table border=\"1\" class=\"dataframe\">\n",
              "  <thead>\n",
              "    <tr style=\"text-align: right;\">\n",
              "      <th></th>\n",
              "      <th>x_acc</th>\n",
              "      <th>y_acc</th>\n",
              "      <th>z_acc</th>\n",
              "      <th>x_gyro</th>\n",
              "      <th>y_gyro</th>\n",
              "      <th>z_gyro</th>\n",
              "    </tr>\n",
              "  </thead>\n",
              "  <tbody>\n",
              "    <tr>\n",
              "      <th>6000</th>\n",
              "      <td>-104.37</td>\n",
              "      <td>-48.28</td>\n",
              "      <td>896.12</td>\n",
              "      <td>0.061</td>\n",
              "      <td>0.252</td>\n",
              "      <td>-0.015</td>\n",
              "    </tr>\n",
              "    <tr>\n",
              "      <th>6001</th>\n",
              "      <td>-104.55</td>\n",
              "      <td>-48.52</td>\n",
              "      <td>895.45</td>\n",
              "      <td>-0.076</td>\n",
              "      <td>0.290</td>\n",
              "      <td>-0.114</td>\n",
              "    </tr>\n",
              "    <tr>\n",
              "      <th>6002</th>\n",
              "      <td>-105.29</td>\n",
              "      <td>-46.39</td>\n",
              "      <td>892.82</td>\n",
              "      <td>0.076</td>\n",
              "      <td>0.206</td>\n",
              "      <td>-0.061</td>\n",
              "    </tr>\n",
              "    <tr>\n",
              "      <th>6003</th>\n",
              "      <td>-102.72</td>\n",
              "      <td>-44.07</td>\n",
              "      <td>890.87</td>\n",
              "      <td>0.015</td>\n",
              "      <td>0.214</td>\n",
              "      <td>-0.015</td>\n",
              "    </tr>\n",
              "    <tr>\n",
              "      <th>6004</th>\n",
              "      <td>-99.91</td>\n",
              "      <td>-46.75</td>\n",
              "      <td>888.67</td>\n",
              "      <td>0.092</td>\n",
              "      <td>0.175</td>\n",
              "      <td>0.061</td>\n",
              "    </tr>\n",
              "  </tbody>\n",
              "</table>\n",
              "</div>"
            ],
            "text/plain": [
              "       x_acc  y_acc   z_acc  x_gyro  y_gyro  z_gyro\n",
              "6000 -104.37 -48.28  896.12   0.061   0.252  -0.015\n",
              "6001 -104.55 -48.52  895.45  -0.076   0.290  -0.114\n",
              "6002 -105.29 -46.39  892.82   0.076   0.206  -0.061\n",
              "6003 -102.72 -44.07  890.87   0.015   0.214  -0.015\n",
              "6004  -99.91 -46.75  888.67   0.092   0.175   0.061"
            ]
          },
          "metadata": {
            "tags": []
          },
          "execution_count": 16
        }
      ]
    },
    {
      "cell_type": "code",
      "metadata": {
        "id": "uJnBb-kn4B77",
        "colab_type": "code",
        "colab": {}
      },
      "source": [
        "dfn = dff.tail(10000)\n",
        "dfn.head(5)\n",
        "dfn_seg = dfn.drop(columns=['time', 'x_mag', 'y_mag', 'z_mag', 'rem'])"
      ],
      "execution_count": 0,
      "outputs": []
    },
    {
      "cell_type": "code",
      "metadata": {
        "id": "vDS0O5_U9UYB",
        "colab_type": "code",
        "colab": {}
      },
      "source": [
        "#populate array of non REM sleep\n",
        "X_train_n = np.zeros((210,512,6))\n",
        "j = 0\n",
        "while j < 210:\n",
        "  k = 0\n",
        "  l = 0\n",
        "  while k < 512:\n",
        "    X_train_n[j][k][0] = dfn_seg['x_acc'].values[l+j]\n",
        "    X_train_n[j][k][1] = dfn_seg['y_acc'].values[l+j]\n",
        "    X_train_n[j][k][2] = dfn_seg['z_acc'].values[l+j]\n",
        "    X_train_n[j][k][3] = dfn_seg['x_gyro'].values[l+j]\n",
        "    X_train_n[j][k][4] = dfn_seg['y_gyro'].values[l+j]\n",
        "    X_train_n[j][k][5] = dfn_seg['z_gyro'].values[l+j]\n",
        "    k = k+1\n",
        "    l = k+1\n",
        "  j = j+1"
      ],
      "execution_count": 0,
      "outputs": []
    },
    {
      "cell_type": "code",
      "metadata": {
        "id": "ODdMz16igVVX",
        "colab_type": "code",
        "colab": {}
      },
      "source": [
        "#label non REM data\n",
        "y_fin_n = np.zeros((210,1))"
      ],
      "execution_count": 0,
      "outputs": []
    },
    {
      "cell_type": "code",
      "metadata": {
        "id": "apscVBrYgjud",
        "colab_type": "code",
        "outputId": "d6b4a22c-7fad-4eca-e0b6-12653a3c746e",
        "colab": {
          "base_uri": "https://localhost:8080/",
          "height": 34
        }
      },
      "source": [
        "y = np.concatenate((y_fin, y_fin_n))\n",
        "print(y.shape)"
      ],
      "execution_count": 21,
      "outputs": [
        {
          "output_type": "stream",
          "text": [
            "(420, 1)\n"
          ],
          "name": "stdout"
        }
      ]
    },
    {
      "cell_type": "code",
      "metadata": {
        "id": "wKYOJgmxhIJK",
        "colab_type": "code",
        "outputId": "eeb1d7d8-d2ee-459c-f0ea-646530cd1ebd",
        "colab": {
          "base_uri": "https://localhost:8080/",
          "height": 34
        }
      },
      "source": [
        "X = np.concatenate((X_train_fin, X_train_n))\n",
        "print(X.shape)"
      ],
      "execution_count": 22,
      "outputs": [
        {
          "output_type": "stream",
          "text": [
            "(420, 512, 6)\n"
          ],
          "name": "stdout"
        }
      ]
    },
    {
      "cell_type": "code",
      "metadata": {
        "id": "Xs65brGEjka9",
        "colab_type": "code",
        "colab": {}
      },
      "source": [
        "from sklearn.model_selection import train_test_split\n",
        "X_train0, X_test0, y_train, y_test = train_test_split(X, y, test_size=0.3)\n",
        "X_test0, X_val0, y_test, y_val = train_test_split(X_test0, y_test, test_size=0.5)"
      ],
      "execution_count": 0,
      "outputs": []
    },
    {
      "cell_type": "code",
      "metadata": {
        "id": "JmRNHOknjx-2",
        "colab_type": "code",
        "outputId": "a257312e-5119-4eb0-feb6-44b85aff3f3e",
        "colab": {
          "base_uri": "https://localhost:8080/",
          "height": 68
        }
      },
      "source": [
        "print(X_val0.shape)\n",
        "print(X_test0.shape)\n",
        "print(X_train0.shape)"
      ],
      "execution_count": 88,
      "outputs": [
        {
          "output_type": "stream",
          "text": [
            "(63, 512, 6)\n",
            "(63, 512, 6)\n",
            "(294, 512, 6)\n"
          ],
          "name": "stdout"
        }
      ]
    },
    {
      "cell_type": "code",
      "metadata": {
        "id": "zdadldgbliVl",
        "colab_type": "code",
        "colab": {}
      },
      "source": [
        "from tensorflow.keras.models import Sequential\n",
        "from tensorflow.keras.layers import Conv2D, MaxPooling2D, LSTM, Dense, Dropout, Flatten\n",
        "from tensorflow.keras.layers import BatchNormalization, Permute, Reshape\n",
        "def model_ConvLSTM(dim, win_len, num_classes, num_feat_map=64, p=0.3, batchnorm=True, dropout=True):\n",
        "    model = Sequential(name='ConvLSTM')\n",
        "    model.add(Conv2D(num_feat_map, kernel_size=(1, 3),\n",
        "                     activation='relu',\n",
        "                     input_shape=(dim, win_len, 1),\n",
        "                     padding='same', name='Conv_1'))\n",
        "    if batchnorm:\n",
        "        model.add(BatchNormalization(name='Bn_1'))\n",
        "    model.add(MaxPooling2D(pool_size=(1, 2), name='Max_pool_1'))\n",
        "    if dropout:\n",
        "        model.add(Dropout(p, name='Drop_1'))\n",
        "    model.add(Conv2D(num_feat_map, kernel_size=(1, 3),\n",
        "                     activation='relu', padding='same', name='Conv_2'))\n",
        "    if batchnorm:\n",
        "        model.add(BatchNormalization(name='Bn_2'))\n",
        "    model.add(MaxPooling2D(pool_size=(1, 2), name='Max_pool_2'))\n",
        "    if dropout:\n",
        "        model.add(Dropout(p, name='Drop_2'))\n",
        "    model.add(Permute((2, 1, 3), name='Permute_1'))  # for swap-dimension\n",
        "    model.add(Reshape((-1, num_feat_map * dim), name='Reshape_1'))\n",
        "    model.add(LSTM(32, return_sequences=False, stateful=False, name='Lstm_1'))\n",
        "    if dropout:\n",
        "        model.add(Dropout(p, name='Drop_3'))\n",
        "    model.add(Dense(num_classes, activation='softmax', name='dense_out'))\n",
        "    return model"
      ],
      "execution_count": 0,
      "outputs": []
    },
    {
      "cell_type": "code",
      "metadata": {
        "id": "OD0ei63vlwBE",
        "colab_type": "code",
        "colab": {}
      },
      "source": [
        "def reshape_data(X_tr, X_va, X_tst, network_type):\n",
        "    _, win_len, dim = X_tr.shape\n",
        "    print(network_type)\n",
        "\n",
        "    if network_type == 'CNN' or network_type == 'ConvLSTM':\n",
        "        # make it into (frame_number, dimension, window_size, channel=1) for convNet\n",
        "        X_tr = np.swapaxes(X_tr, 1, 2)\n",
        "        X_va = np.swapaxes(X_va, 1, 2)\n",
        "        X_tst = np.swapaxes(X_tst, 1, 2)\n",
        "\n",
        "        X_tr = np.reshape(X_tr, (-1, dim, win_len, 1))\n",
        "        X_va = np.reshape(X_va, (-1, dim, win_len, 1))\n",
        "        X_tst = np.reshape(X_tst, (-1, dim, win_len, 1))\n",
        "\n",
        "    elif network_type == 'MLP':\n",
        "        X_tr = np.reshape(X_tr, (-1, dim * win_len))\n",
        "        X_va = np.reshape(X_va, (-1, dim * win_len))\n",
        "        X_tst = np.reshape(X_tst, (-1, dim * win_len))\n",
        "\n",
        "    return X_tr, X_va, X_tst"
      ],
      "execution_count": 0,
      "outputs": []
    },
    {
      "cell_type": "code",
      "metadata": {
        "id": "uSYJd3nRlxUV",
        "colab_type": "code",
        "outputId": "0e75e94c-0c73-4a5c-d52c-220665f1b155",
        "colab": {
          "base_uri": "https://localhost:8080/",
          "height": 34
        }
      },
      "source": [
        "X_train, X_val, X_test = reshape_data(X_train0, X_val0, X_test0, 'ConvLSTM')"
      ],
      "execution_count": 108,
      "outputs": [
        {
          "output_type": "stream",
          "text": [
            "ConvLSTM\n"
          ],
          "name": "stdout"
        }
      ]
    },
    {
      "cell_type": "markdown",
      "metadata": {
        "id": "PRlNAGY8mdOT",
        "colab_type": "text"
      },
      "source": [
        "Specify Hyperparameters"
      ]
    },
    {
      "cell_type": "code",
      "metadata": {
        "id": "jNgOAan_mEE7",
        "colab_type": "code",
        "colab": {}
      },
      "source": [
        "batch_size = 256\n",
        "_, win_len, dim = X_train0.shape"
      ],
      "execution_count": 0,
      "outputs": []
    },
    {
      "cell_type": "code",
      "metadata": {
        "id": "CHNTWYs_ml5p",
        "colab_type": "code",
        "outputId": "63a84342-fb39-4e28-ff40-8524cc24581c",
        "colab": {
          "base_uri": "https://localhost:8080/",
          "height": 612
        }
      },
      "source": [
        "model = model_ConvLSTM(dim, win_len, 2, num_feat_map=32, p=0.3)\n",
        "print(model.summary())"
      ],
      "execution_count": 109,
      "outputs": [
        {
          "output_type": "stream",
          "text": [
            "Model: \"ConvLSTM\"\n",
            "_________________________________________________________________\n",
            "Layer (type)                 Output Shape              Param #   \n",
            "=================================================================\n",
            "Conv_1 (Conv2D)              (None, 6, 512, 32)        128       \n",
            "_________________________________________________________________\n",
            "Bn_1 (BatchNormalization)    (None, 6, 512, 32)        128       \n",
            "_________________________________________________________________\n",
            "Max_pool_1 (MaxPooling2D)    (None, 6, 256, 32)        0         \n",
            "_________________________________________________________________\n",
            "Drop_1 (Dropout)             (None, 6, 256, 32)        0         \n",
            "_________________________________________________________________\n",
            "Conv_2 (Conv2D)              (None, 6, 256, 32)        3104      \n",
            "_________________________________________________________________\n",
            "Bn_2 (BatchNormalization)    (None, 6, 256, 32)        128       \n",
            "_________________________________________________________________\n",
            "Max_pool_2 (MaxPooling2D)    (None, 6, 128, 32)        0         \n",
            "_________________________________________________________________\n",
            "Drop_2 (Dropout)             (None, 6, 128, 32)        0         \n",
            "_________________________________________________________________\n",
            "Permute_1 (Permute)          (None, 128, 6, 32)        0         \n",
            "_________________________________________________________________\n",
            "Reshape_1 (Reshape)          (None, None, 192)         0         \n",
            "_________________________________________________________________\n",
            "Lstm_1 (LSTM)                (None, 32)                28800     \n",
            "_________________________________________________________________\n",
            "Drop_3 (Dropout)             (None, 32)                0         \n",
            "_________________________________________________________________\n",
            "dense_out (Dense)            (None, 2)                 66        \n",
            "=================================================================\n",
            "Total params: 32,354\n",
            "Trainable params: 32,226\n",
            "Non-trainable params: 128\n",
            "_________________________________________________________________\n",
            "None\n"
          ],
          "name": "stdout"
        }
      ]
    },
    {
      "cell_type": "code",
      "metadata": {
        "id": "BK1uFqV2ozW2",
        "colab_type": "code",
        "colab": {}
      },
      "source": [
        "epochs = 5\n",
        "model.compile(loss=tf.keras.losses.sparse_categorical_crossentropy,\n",
        "              optimizer='adam',\n",
        "              metrics=['accuracy'])"
      ],
      "execution_count": 0,
      "outputs": []
    },
    {
      "cell_type": "code",
      "metadata": {
        "id": "_owQQwYLpAjz",
        "colab_type": "code",
        "outputId": "63c66150-ac15-488a-9990-2fcf7bca0f00",
        "colab": {
          "base_uri": "https://localhost:8080/",
          "height": 221
        }
      },
      "source": [
        "model.fit(X_train, y_train,\n",
        "          batch_size=300,\n",
        "          epochs=epochs,\n",
        "          verbose=1,\n",
        "          shuffle=True,\n",
        "          validation_data=(X_val, y_val))"
      ],
      "execution_count": 111,
      "outputs": [
        {
          "output_type": "stream",
          "text": [
            "Train on 294 samples, validate on 63 samples\n",
            "Epoch 1/5\n",
            "294/294 [==============================] - 4s 15ms/sample - loss: 0.7553 - acc: 0.5068 - val_loss: 0.8677 - val_acc: 0.4921\n",
            "Epoch 2/5\n",
            "294/294 [==============================] - 3s 9ms/sample - loss: 0.6733 - acc: 0.5578 - val_loss: 0.8246 - val_acc: 0.4921\n",
            "Epoch 3/5\n",
            "294/294 [==============================] - 3s 9ms/sample - loss: 0.6079 - acc: 0.6293 - val_loss: 0.6939 - val_acc: 0.4921\n",
            "Epoch 4/5\n",
            "294/294 [==============================] - 3s 9ms/sample - loss: 0.5163 - acc: 0.7925 - val_loss: 0.6284 - val_acc: 0.6825\n",
            "Epoch 5/5\n",
            "294/294 [==============================] - 3s 9ms/sample - loss: 0.4797 - acc: 0.7993 - val_loss: 0.6233 - val_acc: 0.8730\n"
          ],
          "name": "stdout"
        },
        {
          "output_type": "execute_result",
          "data": {
            "text/plain": [
              "<tensorflow.python.keras.callbacks.History at 0x7f567010db38>"
            ]
          },
          "metadata": {
            "tags": []
          },
          "execution_count": 111
        }
      ]
    },
    {
      "cell_type": "code",
      "metadata": {
        "id": "sbVt9IRKveI4",
        "colab_type": "code",
        "colab": {}
      },
      "source": [
        "#update prediction results to compute confusion matrix\n",
        "y_out = model.predict(X_test)\n",
        "\n",
        "y_res = np.zeros((63,1))\n",
        "i = 0\n",
        "while i < 63:\n",
        "  temp = y_out[i][1]\n",
        "  if temp > 0.5:\n",
        "    y_res[i][0] = 1\n",
        "  else:\n",
        "    y_res[i][0] = 0\n",
        "  i = i+1\n",
        "\n",
        "from sklearn.metrics import confusion_matrix\n",
        "cf_matrix = confusion_matrix(y_test, y_res)"
      ],
      "execution_count": 0,
      "outputs": []
    },
    {
      "cell_type": "code",
      "metadata": {
        "id": "DGFlsF26si62",
        "colab_type": "code",
        "outputId": "6122c747-6a04-4dc8-e320-43c161e20b1b",
        "colab": {
          "base_uri": "https://localhost:8080/",
          "height": 85
        }
      },
      "source": [
        "from sklearn.metrics import f1_score\n",
        "from sklearn.metrics import accuracy_score\n",
        "print(cf_matrix)\n",
        "class_wise_f1 = f1_score(y_test, y_res, average=None)\n",
        "print('the mean-f1 score: {:.4f}'.format(np.mean(class_wise_f1)))\n",
        "accuracy = accuracy_score(y_test, y_res)\n",
        "print('accuracy is: {:.4f}'.format(accuracy))"
      ],
      "execution_count": 113,
      "outputs": [
        {
          "output_type": "stream",
          "text": [
            "[[30  0]\n",
            " [ 5 28]]\n",
            "the mean-f1 score: 0.9206\n",
            "accuracy is: 0.9206\n"
          ],
          "name": "stdout"
        }
      ]
    }
  ]
}